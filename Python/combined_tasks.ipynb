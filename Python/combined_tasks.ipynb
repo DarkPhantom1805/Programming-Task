{
 "cells": [
  {
   "cell_type": "code",
   "execution_count": 15,
   "metadata": {},
   "outputs": [],
   "source": []
  },
  {
   "cell_type": "code",
   "execution_count": 13,
   "metadata": {},
   "outputs": [],
   "source": [
    "class Task1():\n",
    "    \n",
    "    # CLASS OBJECT FOR TASK 1\n",
    "    alphabet = [\"A\", \"B\", \"C\", \"D\", \"E\", \"F\", \"G\", \"H\", \"I\", \"J\", \"K\", \"L\", \"M\", \"N\", \"O\", \"P\", \"Q\", \"R\", \"S\", \"T\", \"U\", \"V\", \"W\", \"X\", \"Y\", \"Z\"]\n",
    "    \n",
    "    \n",
    "    def __init__(self,string):\n",
    "        self.string = string\n",
    "        \n",
    "    def __str__(self):\n",
    "        return self.string\n",
    "    \n",
    "    def capitalize(self):\n",
    "        self.string = self.string.upper()\n",
    "    \n",
    "    def pangram_check(self):\n",
    "        check = [False] * 26\n",
    "\n",
    "        for count in range(0,26):\n",
    "            for i in self.string:\n",
    "                if Task1.alphabet[count] == i:\n",
    "                    check[count] = True\n",
    "                    \n",
    "        for i in check:\n",
    "            if i == False:\n",
    "                print(\"This String is not a Pangram\")\n",
    "                return\n",
    "            \n",
    "        print(\"This String is a pangram\")\n",
    "\n",
    "        "
   ]
  },
  {
   "cell_type": "code",
   "execution_count": 14,
   "metadata": {},
   "outputs": [],
   "source": [
    "x = Task1(input(\"Enter a string: \"))"
   ]
  },
  {
   "cell_type": "code",
   "execution_count": 16,
   "metadata": {},
   "outputs": [
    {
     "name": "stdout",
     "output_type": "stream",
     "text": [
      "This String is a pangram\n"
     ]
    }
   ],
   "source": [
    "x.pangram_check()"
   ]
  },
  {
   "cell_type": "code",
   "execution_count": null,
   "metadata": {},
   "outputs": [],
   "source": []
  }
 ],
 "metadata": {
  "interpreter": {
   "hash": "479fe6f93bd90334e452788091fd34a680ce36254487b41c7f65b09168921946"
  },
  "kernelspec": {
   "display_name": "Python 3.10.0 64-bit",
   "language": "python",
   "name": "python3"
  },
  "language_info": {
   "codemirror_mode": {
    "name": "ipython",
    "version": 3
   },
   "file_extension": ".py",
   "mimetype": "text/x-python",
   "name": "python",
   "nbconvert_exporter": "python",
   "pygments_lexer": "ipython3",
   "version": "3.10.0"
  },
  "orig_nbformat": 4
 },
 "nbformat": 4,
 "nbformat_minor": 2
}
